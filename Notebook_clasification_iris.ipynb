{
 "cells": [
  {
   "cell_type": "markdown",
   "id": "45c85c4b-29e3-430b-b3b0-50b4ca28c20b",
   "metadata": {},
   "source": [
    "# Clasificación Iris\n",
    "\n",
    "### Caso de uso:\n",
    "\n",
    "No disponemos de ninguna información sobre el propósito del modelo. No sabemos ni para que se va usar, ni cuando, ni como.\n",
    "\n",
    "Estas aclaraciones nos secundan las tomas de decisiones a lo largo de la construcccion de Modelo.\n",
    "\n",
    "\n",
    "\n"
   ]
  },
  {
   "cell_type": "markdown",
   "id": "010f4970-7238-4993-b337-92f69e7f5a85",
   "metadata": {},
   "source": [
    "### Importamos Librerías"
   ]
  },
  {
   "cell_type": "code",
   "execution_count": 2,
   "id": "4f396106-69bb-49a7-840b-01e2198404bd",
   "metadata": {
    "tags": []
   },
   "outputs": [],
   "source": [
    "import pandas as pd\n",
    "\n",
    "from utils.Iris.locker import load_explore_iris, classification_iris\n"
   ]
  },
  {
   "cell_type": "markdown",
   "id": "cf44c81a-3181-41ff-9a29-138b7d324553",
   "metadata": {},
   "source": [
    "### Exploración de Datos\n",
    "\n",
    "\n",
    "#### Dataset\n",
    "\n",
    "El conjunto de datos contiene 50 muestras de cada una de tres especies de Iris (Iris setosa, Iris virginica e Iris versicolor).\n",
    "\n",
    "El Dataset de  Iris cuenta solo con un total de 150 registos, 4 'Features' (Largo y ancho del sépalo y pétalo[en cm].) y un 'Target' multiclase (especie).\n",
    "\n",
    "#### Pandas profiling\n",
    "\n",
    "En la carpeta  de \"/reports/\", el fichero  \"iris_profiling_report.html\" nos proporciona un análisis exploratorio de datos completo. Observamos la distribución, la información general de cada varible y la correlación entre ellas.\n",
    "\n",
    "Lo que nos permite observar una altísima correlación entre las variables. Esto motiva un PCA y así calcular unos datos que queden mejor representados y evitar  una matriz de registros colineares.\n",
    "\n",
    "#### Missing Values.\n",
    "\n",
    "Todos los datos vienen informados.\n",
    "\n",
    "#### PCA\n",
    "\n",
    "El PCA reduce la dimensinalidad del data set a  3 componentes principales con un 99.4% de varianza explicada. Tambien hemos introducido un estandarizado en el pipeline.\n",
    "\n",
    "En el grafico 'Iris Distribution' (Representación PCA de datos multidimensionales) observamos la separación clara de la clase iris setosa dejando por otro lado la iris virginica  e iris versicolor con areas de distribución superpuestas.\n"
   ]
  },
  {
   "cell_type": "code",
   "execution_count": 3,
   "id": "4f31dd45-5119-488d-83bf-123cb8c9860b",
   "metadata": {},
   "outputs": [
    {
     "name": "stdout",
     "output_type": "stream",
     "text": [
      "\n",
      "[Dataset]\n",
      "\n"
     ]
    },
    {
     "data": {
      "text/html": [
       "<div>\n",
       "<style scoped>\n",
       "    .dataframe tbody tr th:only-of-type {\n",
       "        vertical-align: middle;\n",
       "    }\n",
       "\n",
       "    .dataframe tbody tr th {\n",
       "        vertical-align: top;\n",
       "    }\n",
       "\n",
       "    .dataframe thead th {\n",
       "        text-align: right;\n",
       "    }\n",
       "</style>\n",
       "<table border=\"1\" class=\"dataframe\">\n",
       "  <thead>\n",
       "    <tr style=\"text-align: right;\">\n",
       "      <th></th>\n",
       "      <th>sepal length (cm)</th>\n",
       "      <th>sepal width (cm)</th>\n",
       "      <th>petal length (cm)</th>\n",
       "      <th>petal width (cm)</th>\n",
       "      <th>target</th>\n",
       "    </tr>\n",
       "  </thead>\n",
       "  <tbody>\n",
       "    <tr>\n",
       "      <th>count</th>\n",
       "      <td>150.000000</td>\n",
       "      <td>150.000000</td>\n",
       "      <td>150.000000</td>\n",
       "      <td>150.000000</td>\n",
       "      <td>150.000000</td>\n",
       "    </tr>\n",
       "    <tr>\n",
       "      <th>mean</th>\n",
       "      <td>5.843333</td>\n",
       "      <td>3.057333</td>\n",
       "      <td>3.758000</td>\n",
       "      <td>1.199333</td>\n",
       "      <td>1.000000</td>\n",
       "    </tr>\n",
       "    <tr>\n",
       "      <th>std</th>\n",
       "      <td>0.828066</td>\n",
       "      <td>0.435866</td>\n",
       "      <td>1.765298</td>\n",
       "      <td>0.762238</td>\n",
       "      <td>0.819232</td>\n",
       "    </tr>\n",
       "    <tr>\n",
       "      <th>min</th>\n",
       "      <td>4.300000</td>\n",
       "      <td>2.000000</td>\n",
       "      <td>1.000000</td>\n",
       "      <td>0.100000</td>\n",
       "      <td>0.000000</td>\n",
       "    </tr>\n",
       "    <tr>\n",
       "      <th>25%</th>\n",
       "      <td>5.100000</td>\n",
       "      <td>2.800000</td>\n",
       "      <td>1.600000</td>\n",
       "      <td>0.300000</td>\n",
       "      <td>0.000000</td>\n",
       "    </tr>\n",
       "    <tr>\n",
       "      <th>50%</th>\n",
       "      <td>5.800000</td>\n",
       "      <td>3.000000</td>\n",
       "      <td>4.350000</td>\n",
       "      <td>1.300000</td>\n",
       "      <td>1.000000</td>\n",
       "    </tr>\n",
       "    <tr>\n",
       "      <th>75%</th>\n",
       "      <td>6.400000</td>\n",
       "      <td>3.300000</td>\n",
       "      <td>5.100000</td>\n",
       "      <td>1.800000</td>\n",
       "      <td>2.000000</td>\n",
       "    </tr>\n",
       "    <tr>\n",
       "      <th>max</th>\n",
       "      <td>7.900000</td>\n",
       "      <td>4.400000</td>\n",
       "      <td>6.900000</td>\n",
       "      <td>2.500000</td>\n",
       "      <td>2.000000</td>\n",
       "    </tr>\n",
       "  </tbody>\n",
       "</table>\n",
       "</div>"
      ],
      "text/plain": [
       "       sepal length (cm)  sepal width (cm)  petal length (cm)  \\\n",
       "count         150.000000        150.000000         150.000000   \n",
       "mean            5.843333          3.057333           3.758000   \n",
       "std             0.828066          0.435866           1.765298   \n",
       "min             4.300000          2.000000           1.000000   \n",
       "25%             5.100000          2.800000           1.600000   \n",
       "50%             5.800000          3.000000           4.350000   \n",
       "75%             6.400000          3.300000           5.100000   \n",
       "max             7.900000          4.400000           6.900000   \n",
       "\n",
       "       petal width (cm)      target  \n",
       "count        150.000000  150.000000  \n",
       "mean           1.199333    1.000000  \n",
       "std            0.762238    0.819232  \n",
       "min            0.100000    0.000000  \n",
       "25%            0.300000    0.000000  \n",
       "50%            1.300000    1.000000  \n",
       "75%            1.800000    2.000000  \n",
       "max            2.500000    2.000000  "
      ]
     },
     "metadata": {},
     "output_type": "display_data"
    },
    {
     "name": "stdout",
     "output_type": "stream",
     "text": [
      "\n",
      "[Pandas_profiling]\n",
      "\n"
     ]
    },
    {
     "data": {
      "application/vnd.jupyter.widget-view+json": {
       "model_id": "42985dc6d01044429a53bd9ed65abc3d",
       "version_major": 2,
       "version_minor": 0
      },
      "text/plain": [
       "Summarize dataset:   0%|          | 0/19 [00:00<?, ?it/s]"
      ]
     },
     "metadata": {},
     "output_type": "display_data"
    },
    {
     "data": {
      "application/vnd.jupyter.widget-view+json": {
       "model_id": "b358eda21a48487bb05312c7db2c3cbf",
       "version_major": 2,
       "version_minor": 0
      },
      "text/plain": [
       "Generate report structure:   0%|          | 0/1 [00:00<?, ?it/s]"
      ]
     },
     "metadata": {},
     "output_type": "display_data"
    },
    {
     "data": {
      "application/vnd.jupyter.widget-view+json": {
       "model_id": "c68125bd9aff4e739f9a0292271615ea",
       "version_major": 2,
       "version_minor": 0
      },
      "text/plain": [
       "Render HTML:   0%|          | 0/1 [00:00<?, ?it/s]"
      ]
     },
     "metadata": {},
     "output_type": "display_data"
    },
    {
     "data": {
      "application/vnd.jupyter.widget-view+json": {
       "model_id": "a480bc47876c48518989c8edbd04e9cb",
       "version_major": 2,
       "version_minor": 0
      },
      "text/plain": [
       "Export report to file:   0%|          | 0/1 [00:00<?, ?it/s]"
      ]
     },
     "metadata": {},
     "output_type": "display_data"
    },
    {
     "name": "stdout",
     "output_type": "stream",
     "text": [
      "\n",
      "[PCA]\n",
      " \n",
      "\n",
      " Reducimos 1 dimension/es del conjunto de datos, con un 99.4% de la varianza explicada.\n",
      "\n",
      "\n",
      "[PCA_distribution]\n",
      "\n"
     ]
    },
    {
     "data": {
      "image/png": "[encoded data removed]",
      "text/plain": [
       "<Figure size 432x288 with 1 Axes>"
      ]
     },
     "metadata": {
      "needs_background": "light"
     },
     "output_type": "display_data"
    }
   ],
   "source": [
    "#%%time\n",
    "# Load the data, generate the reports, treat the missing values and compute the PCA for Iris.\n",
    "df_pca_iris, df_iris, fields_input_iris, fields_target_iris = load_explore_iris()"
   ]
  },
  {
   "cell_type": "markdown",
   "id": "e0cb78cb-3acf-40e8-8568-20c650724530",
   "metadata": {},
   "source": [
    "### Modelo\n",
    "\n",
    "#### Eleccion de clasificadores\n",
    "\n",
    "Teniendo un data set con 3 componentes y 150 registros tenemos que tener mucho cuidado para no elegir un modelo que se sobre-ajuste a los datos de entrenamiento. Para ello elegimos modelos simples que conocemos.\n",
    "\n",
    "Los modelos elegidos para la evaluación son : Random Forest, Gradient Boosting, LinearSVC, Ridge Classifier, Logistic Regression. Aplicamos un GridSearchCV para tunear los parametros necesarios.\n",
    "\n",
    "\n"
   ]
  },
  {
   "cell_type": "code",
   "execution_count": 4,
   "id": "14776c1d-3d1f-4ea8-ae81-b75eec486a24",
   "metadata": {},
   "outputs": [
    {
     "name": "stdout",
     "output_type": "stream",
     "text": [
      "[Evaluation Metrics]\n",
      "\n",
      "('random_forest__accuracy_train', 1.0)\n",
      "('random_forest__accuracy_test', 0.9111111111111111)\n",
      "('random_forest__f1_weighted', 0.9095022624434389)\n",
      "('random_forest__cohen_kappa', 0.8666666666666667)\n",
      "('random_forest__best_params', None)\n",
      "('gradient_boosting__accuracy_train', 1.0)\n",
      "('gradient_boosting__accuracy_test', 0.8666666666666667)\n",
      "('gradient_boosting__f1_weighted', 0.8660714285714286)\n",
      "('gradient_boosting__cohen_kappa', 0.8)\n",
      "('gradient_boosting__best_params', None)\n",
      "('svm_linear__accuracy_train', 0.9714285714285714)\n",
      "('svm_linear__accuracy_test', 0.9777777777777777)\n",
      "('svm_linear__f1_weighted', 0.9777530589543938)\n",
      "('svm_linear__cohen_kappa', 0.9666666666666667)\n",
      "('svm_linear__best_params', \"{'C': 10}\")\n",
      "('ridge__accuracy_train', 0.8571428571428571)\n",
      "('ridge__accuracy_test', 0.8222222222222222)\n",
      "('ridge__f1_weighted', 0.8086124401913877)\n",
      "('ridge__cohen_kappa', 0.7333333333333334)\n",
      "('ridge__best_params', \"{'alpha': 10, 'solver': 'svd'}\")\n",
      "('logistic_regression__accuracy_train', 0.9809523809523809)\n",
      "('logistic_regression__accuracy_test', 0.9333333333333333)\n",
      "('logistic_regression__f1_weighted', 0.9326599326599326)\n",
      "('logistic_regression__cohen_kappa', 0.9)\n",
      "('logistic_regression__best_params', \"{'C': 10}\")\n",
      "('k_neighbors__accuracy_train', 0.9714285714285714)\n",
      "('k_neighbors__accuracy_test', 0.9555555555555556)\n",
      "('k_neighbors__f1_weighted', 0.9555555555555556)\n",
      "('k_neighbors__cohen_kappa', 0.9333333333333333)\n",
      "('k_neighbors__best_params', \"{'algorithm': 'ball_tree'}\")\n"
     ]
    }
   ],
   "source": [
    "classification_iris(df_pca_iris, df_iris, fields_input_iris, fields_target_iris)"
   ]
  },
  {
   "cell_type": "markdown",
   "id": "44bbf54a-0296-49c8-98af-f52f93cd7a27",
   "metadata": {
    "tags": []
   },
   "source": [
    "#### Evaluación de Resultados\n",
    "\n",
    "Obtenemos las diferentes metricas asociadas a la evaluación de cada modelo. Teniendo en cuenta que no tenemos  información de caso de uso, el clasificador con mejores metricas es el  KNeighbors classifiers o  el SVM Linear .\n",
    "\n",
    "Parece que no queda sobre ajustado, aunque con tan pocos registros no se confirmar.\n",
    "\n",
    "### Siguientes Pasos\n",
    "\n",
    "Conseguir más datos para afinar el modelo, verificar el sobre ajuste, afinar la amplia gama de parámetros de los modelos selecionados y  aplicar algoritmos más complejos. "
   ]
  }
 ],
 "metadata": {
  "kernelspec": {
   "display_name": "Python 3",
   "language": "python",
   "name": "python3"
  },
  "language_info": {
   "codemirror_mode": {
    "name": "ipython",
    "version": 3
   },
   "file_extension": ".py",
   "mimetype": "text/x-python",
   "name": "python",
   "nbconvert_exporter": "python",
   "pygments_lexer": "ipython3",
   "version": "3.9.5"
  }
 },
 "nbformat": 4,
 "nbformat_minor": 5
}
