{
 "cells": [
  {
   "cell_type": "markdown",
   "id": "19723cce-5a26-47bd-b927-14933d7b5b32",
   "metadata": {},
   "source": [
    "# Regresión AirQuality\n",
    "\n",
    "### Caso de uso:\n",
    "\n",
    "No disponemos de ninguna información sobre el propósito del modelo. No sabemos ni para que se va usar, ni cuando, ni como.\n",
    "\n",
    "Estas aclaraciones nos secundan las tomas de decisiones a lo largo de la construcccion de Modelo.\n",
    "\n"
   ]
  },
  {
   "cell_type": "markdown",
   "id": "a3af3b23-0733-4e13-96a7-8340c9f81e7d",
   "metadata": {},
   "source": [
    "### Importamos Librerías"
   ]
  },
  {
   "cell_type": "code",
   "execution_count": 1,
   "id": "f9422d8c-9061-4c91-a78d-fa7583e67d2a",
   "metadata": {
    "tags": []
   },
   "outputs": [],
   "source": [
    "import pandas as pd\n",
    "\n",
    "from utils.AirQualityUCI.locker import load_explore_airquality,regresion_airquality"
   ]
  },
  {
   "cell_type": "markdown",
   "id": "7984e042-622d-4da6-902b-e2b36d0a9068",
   "metadata": {},
   "source": [
    "### Exploración de Datos\n",
    "\n",
    "\n",
    "#### Dataset\n",
    "\n",
    "\n",
    "El Dataset de  Air Quality cuenta solo con un total de 8991 registos 12 variables, 9 de ellas de concentración de gases y 3 con métricas meteorologicas(Humedad, Temperatura...).\n",
    "\n",
    "#### Pandas profiling\n",
    "\n",
    "En la carpeta  de \"/reports/\", el fichero  \"airquality_profiling_report.html\" nos proporciona un análisis exploratorio de datos completo. Observamos la distribución, la información general de cada varible y la correlación entre ellas.\n",
    "\n",
    "Lo que nos permite observar una altísima correlación entre las variables de emisión. Esto motiva un PCA.\n",
    "\n",
    "#### Missing Values.\n",
    "\n",
    "Observamos muchos valores sin informar. Por lo que decidimos eliminar las columnas y registros con alto porcentaje de Missing values y  no falsearlos con una imputación forzada.\n",
    "\n",
    "En los valores sin informar restantes se aplica una imputación de la mediana del campo. Se elige la mediana y no la media aritmética para evitar influencia de valores extremos.\n",
    "\n",
    "#### PCA\n",
    "\n",
    "El PCA reduce la dimensinalidad del data set a 2 componentes principales con un 95.8% de varianza explicada. Tambien hemos introducido un estandarizado en el pipeline.\n",
    "\n",
    "En el grafico 'Iris Distribution' (Representación PCA de datos multidimensionales) observamos la separación clara de la clase iris setosa dejando por otro lado la iris virginica  e iris versicolor con areas de distribución superpuestas."
   ]
  },
  {
   "cell_type": "markdown",
   "id": "2e117608-4d33-43c6-b2ef-6f1dd0caa616",
   "metadata": {},
   "source": [
    " caso de uso \n",
    " Seccionaca de texto los datos poc regsitros colineares"
   ]
  },
  {
   "cell_type": "code",
   "execution_count": 2,
   "id": "db987d16-bd5d-44e4-8fd5-8262625926dd",
   "metadata": {},
   "outputs": [
    {
     "name": "stdout",
     "output_type": "stream",
     "text": [
      "\n",
      "[Dataset]\n",
      "\n"
     ]
    },
    {
     "data": {
      "text/html": [
       "<div>\n",
       "<style scoped>\n",
       "    .dataframe tbody tr th:only-of-type {\n",
       "        vertical-align: middle;\n",
       "    }\n",
       "\n",
       "    .dataframe tbody tr th {\n",
       "        vertical-align: top;\n",
       "    }\n",
       "\n",
       "    .dataframe thead th {\n",
       "        text-align: right;\n",
       "    }\n",
       "</style>\n",
       "<table border=\"1\" class=\"dataframe\">\n",
       "  <thead>\n",
       "    <tr style=\"text-align: right;\">\n",
       "      <th></th>\n",
       "      <th>CO(GT)</th>\n",
       "      <th>PT08.S1(CO)</th>\n",
       "      <th>NMHC(GT)</th>\n",
       "      <th>C6H6(GT)</th>\n",
       "      <th>PT08.S2(NMHC)</th>\n",
       "      <th>NOx(GT)</th>\n",
       "      <th>PT08.S3(NOx)</th>\n",
       "      <th>NO2(GT)</th>\n",
       "      <th>PT08.S4(NO2)</th>\n",
       "      <th>PT08.S5(O3)</th>\n",
       "      <th>T</th>\n",
       "      <th>RH</th>\n",
       "      <th>AH</th>\n",
       "      <th>Unnamed: 15</th>\n",
       "      <th>Unnamed: 16</th>\n",
       "    </tr>\n",
       "  </thead>\n",
       "  <tbody>\n",
       "    <tr>\n",
       "      <th>count</th>\n",
       "      <td>7674.000000</td>\n",
       "      <td>8991.000000</td>\n",
       "      <td>914.000000</td>\n",
       "      <td>8991.000000</td>\n",
       "      <td>8991.000000</td>\n",
       "      <td>7718.000000</td>\n",
       "      <td>8991.000000</td>\n",
       "      <td>7715.000000</td>\n",
       "      <td>8991.000000</td>\n",
       "      <td>8991.000000</td>\n",
       "      <td>8991.000000</td>\n",
       "      <td>8991.000000</td>\n",
       "      <td>8991.000000</td>\n",
       "      <td>0.0</td>\n",
       "      <td>0.0</td>\n",
       "    </tr>\n",
       "    <tr>\n",
       "      <th>mean</th>\n",
       "      <td>2.152750</td>\n",
       "      <td>1099.833166</td>\n",
       "      <td>218.811816</td>\n",
       "      <td>10.083105</td>\n",
       "      <td>939.153376</td>\n",
       "      <td>246.896735</td>\n",
       "      <td>835.493605</td>\n",
       "      <td>113.091251</td>\n",
       "      <td>1456.264598</td>\n",
       "      <td>1022.906128</td>\n",
       "      <td>18.317829</td>\n",
       "      <td>49.234201</td>\n",
       "      <td>1.025530</td>\n",
       "      <td>NaN</td>\n",
       "      <td>NaN</td>\n",
       "    </tr>\n",
       "    <tr>\n",
       "      <th>std</th>\n",
       "      <td>1.453252</td>\n",
       "      <td>217.080037</td>\n",
       "      <td>204.459921</td>\n",
       "      <td>7.449820</td>\n",
       "      <td>266.831429</td>\n",
       "      <td>212.979168</td>\n",
       "      <td>256.817320</td>\n",
       "      <td>48.370108</td>\n",
       "      <td>346.206794</td>\n",
       "      <td>398.484288</td>\n",
       "      <td>8.832116</td>\n",
       "      <td>17.316892</td>\n",
       "      <td>0.403813</td>\n",
       "      <td>NaN</td>\n",
       "      <td>NaN</td>\n",
       "    </tr>\n",
       "    <tr>\n",
       "      <th>min</th>\n",
       "      <td>0.100000</td>\n",
       "      <td>647.000000</td>\n",
       "      <td>7.000000</td>\n",
       "      <td>0.100000</td>\n",
       "      <td>383.000000</td>\n",
       "      <td>2.000000</td>\n",
       "      <td>322.000000</td>\n",
       "      <td>2.000000</td>\n",
       "      <td>551.000000</td>\n",
       "      <td>221.000000</td>\n",
       "      <td>-1.900000</td>\n",
       "      <td>9.200000</td>\n",
       "      <td>0.184700</td>\n",
       "      <td>NaN</td>\n",
       "      <td>NaN</td>\n",
       "    </tr>\n",
       "    <tr>\n",
       "      <th>25%</th>\n",
       "      <td>1.100000</td>\n",
       "      <td>937.000000</td>\n",
       "      <td>67.000000</td>\n",
       "      <td>4.400000</td>\n",
       "      <td>734.500000</td>\n",
       "      <td>98.000000</td>\n",
       "      <td>658.000000</td>\n",
       "      <td>78.000000</td>\n",
       "      <td>1227.000000</td>\n",
       "      <td>731.500000</td>\n",
       "      <td>11.800000</td>\n",
       "      <td>35.800000</td>\n",
       "      <td>0.736800</td>\n",
       "      <td>NaN</td>\n",
       "      <td>NaN</td>\n",
       "    </tr>\n",
       "    <tr>\n",
       "      <th>50%</th>\n",
       "      <td>1.800000</td>\n",
       "      <td>1063.000000</td>\n",
       "      <td>150.000000</td>\n",
       "      <td>8.200000</td>\n",
       "      <td>909.000000</td>\n",
       "      <td>180.000000</td>\n",
       "      <td>806.000000</td>\n",
       "      <td>109.000000</td>\n",
       "      <td>1463.000000</td>\n",
       "      <td>963.000000</td>\n",
       "      <td>17.800000</td>\n",
       "      <td>49.600000</td>\n",
       "      <td>0.995400</td>\n",
       "      <td>NaN</td>\n",
       "      <td>NaN</td>\n",
       "    </tr>\n",
       "    <tr>\n",
       "      <th>75%</th>\n",
       "      <td>2.900000</td>\n",
       "      <td>1231.000000</td>\n",
       "      <td>297.000000</td>\n",
       "      <td>14.000000</td>\n",
       "      <td>1116.000000</td>\n",
       "      <td>326.000000</td>\n",
       "      <td>969.500000</td>\n",
       "      <td>142.000000</td>\n",
       "      <td>1674.000000</td>\n",
       "      <td>1273.500000</td>\n",
       "      <td>24.400000</td>\n",
       "      <td>62.500000</td>\n",
       "      <td>1.313700</td>\n",
       "      <td>NaN</td>\n",
       "      <td>NaN</td>\n",
       "    </tr>\n",
       "    <tr>\n",
       "      <th>max</th>\n",
       "      <td>11.900000</td>\n",
       "      <td>2040.000000</td>\n",
       "      <td>1189.000000</td>\n",
       "      <td>63.700000</td>\n",
       "      <td>2214.000000</td>\n",
       "      <td>1479.000000</td>\n",
       "      <td>2683.000000</td>\n",
       "      <td>340.000000</td>\n",
       "      <td>2775.000000</td>\n",
       "      <td>2523.000000</td>\n",
       "      <td>44.600000</td>\n",
       "      <td>88.700000</td>\n",
       "      <td>2.231000</td>\n",
       "      <td>NaN</td>\n",
       "      <td>NaN</td>\n",
       "    </tr>\n",
       "  </tbody>\n",
       "</table>\n",
       "</div>"
      ],
      "text/plain": [
       "            CO(GT)  PT08.S1(CO)     NMHC(GT)     C6H6(GT)  PT08.S2(NMHC)  \\\n",
       "count  7674.000000  8991.000000   914.000000  8991.000000    8991.000000   \n",
       "mean      2.152750  1099.833166   218.811816    10.083105     939.153376   \n",
       "std       1.453252   217.080037   204.459921     7.449820     266.831429   \n",
       "min       0.100000   647.000000     7.000000     0.100000     383.000000   \n",
       "25%       1.100000   937.000000    67.000000     4.400000     734.500000   \n",
       "50%       1.800000  1063.000000   150.000000     8.200000     909.000000   \n",
       "75%       2.900000  1231.000000   297.000000    14.000000    1116.000000   \n",
       "max      11.900000  2040.000000  1189.000000    63.700000    2214.000000   \n",
       "\n",
       "           NOx(GT)  PT08.S3(NOx)      NO2(GT)  PT08.S4(NO2)  PT08.S5(O3)  \\\n",
       "count  7718.000000   8991.000000  7715.000000   8991.000000  8991.000000   \n",
       "mean    246.896735    835.493605   113.091251   1456.264598  1022.906128   \n",
       "std     212.979168    256.817320    48.370108    346.206794   398.484288   \n",
       "min       2.000000    322.000000     2.000000    551.000000   221.000000   \n",
       "25%      98.000000    658.000000    78.000000   1227.000000   731.500000   \n",
       "50%     180.000000    806.000000   109.000000   1463.000000   963.000000   \n",
       "75%     326.000000    969.500000   142.000000   1674.000000  1273.500000   \n",
       "max    1479.000000   2683.000000   340.000000   2775.000000  2523.000000   \n",
       "\n",
       "                 T           RH           AH  Unnamed: 15  Unnamed: 16  \n",
       "count  8991.000000  8991.000000  8991.000000          0.0          0.0  \n",
       "mean     18.317829    49.234201     1.025530          NaN          NaN  \n",
       "std       8.832116    17.316892     0.403813          NaN          NaN  \n",
       "min      -1.900000     9.200000     0.184700          NaN          NaN  \n",
       "25%      11.800000    35.800000     0.736800          NaN          NaN  \n",
       "50%      17.800000    49.600000     0.995400          NaN          NaN  \n",
       "75%      24.400000    62.500000     1.313700          NaN          NaN  \n",
       "max      44.600000    88.700000     2.231000          NaN          NaN  "
      ]
     },
     "metadata": {},
     "output_type": "display_data"
    },
    {
     "name": "stdout",
     "output_type": "stream",
     "text": [
      "\n",
      "[Pandas_profiling]\n",
      "\n"
     ]
    },
    {
     "data": {
      "application/vnd.jupyter.widget-view+json": {
       "model_id": "ce86458a82cb4d428273234321bdb9ee",
       "version_major": 2,
       "version_minor": 0
      },
      "text/plain": [
       "Summarize dataset:   0%|          | 0/30 [00:00<?, ?it/s]"
      ]
     },
     "metadata": {},
     "output_type": "display_data"
    },
    {
     "data": {
      "application/vnd.jupyter.widget-view+json": {
       "model_id": "23fd7e6c125a446381cc67a9bb52b852",
       "version_major": 2,
       "version_minor": 0
      },
      "text/plain": [
       "Generate report structure:   0%|          | 0/1 [00:00<?, ?it/s]"
      ]
     },
     "metadata": {},
     "output_type": "display_data"
    },
    {
     "data": {
      "application/vnd.jupyter.widget-view+json": {
       "model_id": "c38a40c1dcab4014b32629fccdef911e",
       "version_major": 2,
       "version_minor": 0
      },
      "text/plain": [
       "Render HTML:   0%|          | 0/1 [00:00<?, ?it/s]"
      ]
     },
     "metadata": {},
     "output_type": "display_data"
    },
    {
     "data": {
      "application/vnd.jupyter.widget-view+json": {
       "model_id": "3704cdf9e4ae4543852e25884cbc8be5",
       "version_major": 2,
       "version_minor": 0
      },
      "text/plain": [
       "Export report to file:   0%|          | 0/1 [00:00<?, ?it/s]"
      ]
     },
     "metadata": {},
     "output_type": "display_data"
    },
    {
     "name": "stdout",
     "output_type": "stream",
     "text": [
      "\n",
      "[Missing Values]\n",
      " \n",
      "\n",
      " Eliminamos el campo NMHC(GT) porque  el 90.2% de sus valores venían sin informar.\n",
      "\n",
      " \n",
      " En total se han eliminado 1campo/s.\n",
      " \n",
      "\n",
      " \n",
      " Eliminamos 366 registros porque  el 30.0% de sus valores venían sin informar\n",
      " )\n",
      "\n",
      " Queda imputada la mediana de los campos  en los valores sin informar.\n",
      "\n",
      "[PCA]\n",
      " \n",
      "\n",
      " Reducimos 2 dimension/es del conjunto de datos, con un 98.9% de la varianza explicada.\n",
      "\n"
     ]
    }
   ],
   "source": [
    "#%%time\n",
    "# Load the data, generate the reports, treat the missing values and compute the PCA for Iris and AirQuality\n",
    "\n",
    "df_pca_airquality, df_airquality, fields_f = load_explore_airquality()"
   ]
  },
  {
   "cell_type": "markdown",
   "id": "11f0b8ee-2fa6-4f8f-b315-dda1a5b5a1dc",
   "metadata": {},
   "source": [
    "### Modelo\n",
    "\n",
    "#### Eleccion de clasificadores\n",
    "\n",
    "\n",
    "En primer lugar al identificar una serie Temporal pensamos en plantear un modelo predictivo (autoregresivo) como por ejemplo un ARIMA. Al ver que los datos no tenía estacionalidad anual, ni diaria lo anulamos.\n",
    "\n",
    "No quedaba muy claro que variables eran target por lo que corremos la regresión con las variables de emisiones como features y las médidas meteorológicas como objetivo.\n",
    "\n",
    "Hemos elegiod un Random Forest Regressor para hacer el modelo y aplicamos un GridSearchCV para tunear los parametros."
   ]
  },
  {
   "cell_type": "code",
   "execution_count": 3,
   "id": "8188412e-df0f-4e7a-a31e-4f26205829e8",
   "metadata": {},
   "outputs": [
    {
     "name": "stdout",
     "output_type": "stream",
     "text": [
      "\n",
      " \n",
      " Temperature\n",
      " \n",
      "R-squared = 0.8240672716414624\n",
      "Mean Squared Error = 13.5274649051149\n",
      "\n",
      " \n",
      " Relative Humidity\n",
      " \n",
      "R-squared = 0.6870943605967345\n",
      "Mean Squared Error = 94.66469089140104\n",
      "\n",
      " \n",
      " Absolute Humidity\n",
      " \n",
      "R-squared = 0.9205651616207521\n",
      "Mean Squared Error = 0.01273024547646627\n"
     ]
    }
   ],
   "source": [
    "regresion_airquality(df_airquality,fields_f)"
   ]
  },
  {
   "cell_type": "markdown",
   "id": "a9aea18d-f629-46b2-a942-48a22c0a851d",
   "metadata": {},
   "source": [
    "#### Evaluación de Resultados\n",
    "\n",
    "El modelo parece adaptarse bien a la variación de los datos obteniendo un R cuadrado bastante elevado para la temperatura y humedad absoluta y aceptable para la humedad relativa.\n",
    "\n",
    "### Siguientes Pasos\n",
    "\n",
    "Investigar más sobre el caso de uso, seguir calibrando parametros y probar diferentes Regresores para comparar."
   ]
  }
 ],
 "metadata": {
  "kernelspec": {
   "display_name": "Python 3",
   "language": "python",
   "name": "python3"
  },
  "language_info": {
   "codemirror_mode": {
    "name": "ipython",
    "version": 3
   },
   "file_extension": ".py",
   "mimetype": "text/x-python",
   "name": "python",
   "nbconvert_exporter": "python",
   "pygments_lexer": "ipython3",
   "version": "3.9.5"
  }
 },
 "nbformat": 4,
 "nbformat_minor": 5
}
