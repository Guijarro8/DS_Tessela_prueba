{
 "cells": [
  {
   "cell_type": "code",
   "execution_count": 1,
   "id": "f9422d8c-9061-4c91-a78d-fa7583e67d2a",
   "metadata": {
    "tags": []
   },
   "outputs": [],
   "source": [
    "import pandas as pd\n",
    "import numpy as np\n",
    "from utils.common import print_report, std_pca, plot_pca_multiclass\n",
    "from utils.Iris.crawl import load_iris_df\n",
    "from utils.AirQualityUCI.crawl import load_airquality_df, treatment_airquality_missing_values"
   ]
  },
  {
   "cell_type": "code",
   "execution_count": null,
   "id": "4f178087-0bb4-45de-a3de-6478ae36362c",
   "metadata": {},
   "outputs": [],
   "source": []
  },
  {
   "cell_type": "code",
   "execution_count": null,
   "id": "83348196-6232-4695-a55d-140d4cfb1940",
   "metadata": {},
   "outputs": [],
   "source": [
    "import sys\n",
    "!{sys.executable} -m  pip freeze"
   ]
  },
  {
   "cell_type": "code",
   "execution_count": 2,
   "id": "e0ccae1c-fd36-4901-b424-27086d3c3392",
   "metadata": {},
   "outputs": [],
   "source": [
    "    \n",
    "def load_explore_iris(): \n",
    "    \"\"\"Load, explore  Iris Data generating a profiling report and implement a PCA\"\"\"\n",
    "    \n",
    "    #Load Data\n",
    "    fields_impute =['sepal length (cm)', 'sepal width (cm)', 'petal length (cm)','petal width (cm)'] \n",
    "    df_iris = load_iris_df()\n",
    "    \n",
    "    #Print report\n",
    "    print_report(df_iris,'iris_profiling')\n",
    "    \n",
    "    #Implement a PCA and a overview of the data\n",
    "    df_pca_iris = std_pca(df_iris[fields_impute])\n",
    "    plot_pca_multiclass(\n",
    "                    df_iris[['target_name']],\n",
    "                    df_pca_iris,\n",
    "                    'Iris Distribution',\n",
    "                    'iris_distribution')"
   ]
  },
  {
   "cell_type": "code",
   "execution_count": 3,
   "id": "72711902-0f78-46bd-974b-e8ba26c53587",
   "metadata": {},
   "outputs": [],
   "source": [
    "def load_explore_airquality(): \n",
    "    \"\"\"Load, explore  AirQuality Data generating a profiling report and implement a PCA\"\"\"\n",
    "    \n",
    "    #Load Data \n",
    "    fields_impute = [ 'CO(GT)', 'PT08.S1(CO)', 'NMHC(GT)', 'C6H6(GT)',\n",
    "       'PT08.S2(NMHC)', 'NOx(GT)', 'PT08.S3(NOx)', 'NO2(GT)', 'PT08.S4(NO2)',\n",
    "       'PT08.S5(O3)', 'T', 'RH', 'AH']\n",
    "    df_airquality = load_airquality_df()\n",
    "    \n",
    "    #Treat Missing Values\n",
    "    df_airquality, fields_impute = treatment_airquality_missing_values(df_airquality,fields_impute)\n",
    "    \n",
    "    #Print report\n",
    "    print_report(df_airquality,'airquality_profiling')\n",
    "    \n",
    "    #Implement a PCA and a overview of the data\n",
    "    df_pca_airquality = std_pca(df_airquality[fields_impute])\n"
   ]
  },
  {
   "cell_type": "code",
   "execution_count": 3,
   "id": "db987d16-bd5d-44e4-8fd5-8262625926dd",
   "metadata": {},
   "outputs": [
    {
     "data": {
      "application/vnd.jupyter.widget-view+json": {
       "model_id": "c01e7850a7eb412ca574b9e7afd9d715",
       "version_major": 2,
       "version_minor": 0
      },
      "text/plain": [
       "Summarize dataset:   0%|          | 0/19 [00:00<?, ?it/s]"
      ]
     },
     "metadata": {},
     "output_type": "display_data"
    },
    {
     "data": {
      "application/vnd.jupyter.widget-view+json": {
       "model_id": "5421f33d9e184824b062ca13428f4c57",
       "version_major": 2,
       "version_minor": 0
      },
      "text/plain": [
       "Generate report structure:   0%|          | 0/1 [00:00<?, ?it/s]"
      ]
     },
     "metadata": {},
     "output_type": "display_data"
    },
    {
     "data": {
      "application/vnd.jupyter.widget-view+json": {
       "model_id": "4249201250b248239790316d63d8377e",
       "version_major": 2,
       "version_minor": 0
      },
      "text/plain": [
       "Render HTML:   0%|          | 0/1 [00:00<?, ?it/s]"
      ]
     },
     "metadata": {},
     "output_type": "display_data"
    },
    {
     "data": {
      "application/vnd.jupyter.widget-view+json": {
       "model_id": "811234c1419641a499bd7d1aa88bb3fe",
       "version_major": 2,
       "version_minor": 0
      },
      "text/plain": [
       "Export report to file:   0%|          | 0/1 [00:00<?, ?it/s]"
      ]
     },
     "metadata": {},
     "output_type": "display_data"
    },
    {
     "data": {
      "image/png": "[encoded data removed]",
      "text/plain": [
       "<Figure size 432x288 with 1 Axes>"
      ]
     },
     "metadata": {
      "needs_background": "light"
     },
     "output_type": "display_data"
    }
   ],
   "source": [
    "load_explore_iris()"
   ]
  },
  {
   "cell_type": "code",
   "execution_count": 4,
   "id": "8651b67a-f492-4003-a4c4-726e47d9c45e",
   "metadata": {},
   "outputs": [
    {
     "data": {
      "application/vnd.jupyter.widget-view+json": {
       "model_id": "8fed95c9a4224bd7a895a99fe9390b90",
       "version_major": 2,
       "version_minor": 0
      },
      "text/plain": [
       "Summarize dataset:   0%|          | 0/25 [00:00<?, ?it/s]"
      ]
     },
     "metadata": {},
     "output_type": "display_data"
    },
    {
     "data": {
      "application/vnd.jupyter.widget-view+json": {
       "model_id": "c6b5fd98a71345358b0a52580e9f15de",
       "version_major": 2,
       "version_minor": 0
      },
      "text/plain": [
       "Generate report structure:   0%|          | 0/1 [00:00<?, ?it/s]"
      ]
     },
     "metadata": {},
     "output_type": "display_data"
    },
    {
     "data": {
      "application/vnd.jupyter.widget-view+json": {
       "model_id": "41f0360ef83d46c2a9713e8c96e4d447",
       "version_major": 2,
       "version_minor": 0
      },
      "text/plain": [
       "Render HTML:   0%|          | 0/1 [00:00<?, ?it/s]"
      ]
     },
     "metadata": {},
     "output_type": "display_data"
    },
    {
     "data": {
      "application/vnd.jupyter.widget-view+json": {
       "model_id": "dffac330edad4aefb5401bdd2466300b",
       "version_major": 2,
       "version_minor": 0
      },
      "text/plain": [
       "Export report to file:   0%|          | 0/1 [00:00<?, ?it/s]"
      ]
     },
     "metadata": {},
     "output_type": "display_data"
    }
   ],
   "source": [
    "load_explore_airquality()"
   ]
  },
  {
   "cell_type": "code",
   "execution_count": null,
   "id": "f019c5b7-03a8-4ad8-9c14-9af46cf119ae",
   "metadata": {},
   "outputs": [],
   "source": []
  }
 ],
 "metadata": {
  "kernelspec": {
   "display_name": "Python 3",
   "language": "python",
   "name": "python3"
  },
  "language_info": {
   "codemirror_mode": {
    "name": "ipython",
    "version": 3
   },
   "file_extension": ".py",
   "mimetype": "text/x-python",
   "name": "python",
   "nbconvert_exporter": "python",
   "pygments_lexer": "ipython3",
   "version": "3.9.5"
  }
 },
 "nbformat": 4,
 "nbformat_minor": 5
}
